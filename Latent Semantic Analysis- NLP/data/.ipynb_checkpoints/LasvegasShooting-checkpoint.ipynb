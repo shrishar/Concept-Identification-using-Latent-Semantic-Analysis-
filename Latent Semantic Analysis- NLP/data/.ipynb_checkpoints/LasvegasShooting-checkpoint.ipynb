{
 "cells": [
  {
   "cell_type": "code",
   "execution_count": 1,
   "metadata": {
    "collapsed": true
   },
   "outputs": [],
   "source": [
    "import pandas as pd"
   ]
  },
  {
   "cell_type": "code",
   "execution_count": 3,
   "metadata": {
    "collapsed": true
   },
   "outputs": [],
   "source": [
    "df = pd.read_csv(\"VegasShooting.csv\")"
   ]
  },
  {
   "cell_type": "code",
   "execution_count": 4,
   "metadata": {
    "collapsed": false
   },
   "outputs": [
    {
     "data": {
      "text/plain": [
       "0        Sep 28 2017\n",
       "1        Sep 28 2017\n",
       "2        Sep 28 2017\n",
       "3        Sep 28 2017\n",
       "4        Sep 28 2017\n",
       "5        Sep 28 2017\n",
       "6        Sep 28 2017\n",
       "7        Sep 28 2017\n",
       "8        Sep 28 2017\n",
       "9        Sep 28 2017\n",
       "10       Sep 28 2017\n",
       "11       Sep 28 2017\n",
       "12       Sep 28 2017\n",
       "13       Sep 28 2017\n",
       "14       Sep 28 2017\n",
       "15       Sep 28 2017\n",
       "16       Sep 28 2017\n",
       "17       Sep 28 2017\n",
       "18       Sep 28 2017\n",
       "19       Sep 28 2017\n",
       "20       Sep 28 2017\n",
       "21       Sep 28 2017\n",
       "22       Sep 28 2017\n",
       "23       Sep 28 2017\n",
       "24       Sep 28 2017\n",
       "25       Sep 28 2017\n",
       "26       Sep 28 2017\n",
       "27       Sep 28 2017\n",
       "28       Sep 28 2017\n",
       "29       Sep 28 2017\n",
       "            ...     \n",
       "28125    Oct 03 2017\n",
       "28126    Oct 03 2017\n",
       "28127    Oct 03 2017\n",
       "28128    Oct 03 2017\n",
       "28129    Oct 03 2017\n",
       "28130    Oct 03 2017\n",
       "28131    Oct 03 2017\n",
       "28132    Oct 03 2017\n",
       "28133    Oct 03 2017\n",
       "28134    Oct 03 2017\n",
       "28135    Oct 03 2017\n",
       "28136    Oct 03 2017\n",
       "28137    Oct 03 2017\n",
       "28138    Oct 03 2017\n",
       "28139    Oct 03 2017\n",
       "28140    Oct 03 2017\n",
       "28141    Oct 03 2017\n",
       "28142    Oct 03 2017\n",
       "28143    Oct 03 2017\n",
       "28144    Oct 03 2017\n",
       "28145    Oct 03 2017\n",
       "28146    Oct 03 2017\n",
       "28147    Oct 03 2017\n",
       "28148    Oct 03 2017\n",
       "28149    Oct 03 2017\n",
       "28150    Oct 03 2017\n",
       "28151    Oct 03 2017\n",
       "28152    Oct 03 2017\n",
       "28153    Oct 03 2017\n",
       "28154    Oct 03 2017\n",
       "Name: date, Length: 28155, dtype: object"
      ]
     },
     "execution_count": 4,
     "metadata": {},
     "output_type": "execute_result"
    }
   ],
   "source": [
    "df.date"
   ]
  },
  {
   "cell_type": "code",
   "execution_count": null,
   "metadata": {
    "collapsed": true
   },
   "outputs": [],
   "source": [
    "\n",
    "temp =  df[df['date'] == \"Sep 28 2017\"]['text']\n",
    "temp.to_csv(\"Sep 28 2017.txt\", index = False)"
   ]
  }
 ],
 "metadata": {
  "kernelspec": {
   "display_name": "Python 2",
   "language": "python",
   "name": "python2"
  },
  "language_info": {
   "codemirror_mode": {
    "name": "ipython",
    "version": 2
   },
   "file_extension": ".py",
   "mimetype": "text/x-python",
   "name": "python",
   "nbconvert_exporter": "python",
   "pygments_lexer": "ipython2",
   "version": "2.7.13"
  }
 },
 "nbformat": 4,
 "nbformat_minor": 2
}
