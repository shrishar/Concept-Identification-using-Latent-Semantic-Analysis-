{
 "cells": [
  {
   "cell_type": "code",
   "execution_count": 2,
   "metadata": {
    "collapsed": false
   },
   "outputs": [],
   "source": [
    "# imports\n",
    "import nltk\n",
    "from nltk.corpus import stopwords\n",
    "from sklearn.feature_extraction.text import TfidfVectorizer\n",
    "from sklearn.decomposition import TruncatedSVD\n",
    "import os\n",
    "import preprocessor as p  #pip install tweet-preprocessor"
   ]
  },
  {
   "cell_type": "code",
   "execution_count": 3,
   "metadata": {
    "collapsed": true
   },
   "outputs": [],
   "source": [
    "# fetching the list of .txt files\n",
    "list_doc = os.listdir( os.path.join(os.getcwd(),\"data/RecentDays\"))\n"
   ]
  },
  {
   "cell_type": "code",
   "execution_count": 4,
   "metadata": {
    "collapsed": false
   },
   "outputs": [
    {
     "name": "stdout",
     "output_type": "stream",
     "text": [
      "@SkyNewBreak.txt\n",
      "@BBCBreaking.txt\n",
      "@CBSTopNews.txt\n",
      "@ABCNewsLive.txt\n",
      "@ReutersLive.txt\n",
      "@AJELive.txt\n",
      "@WSJbreakingnews.txt\n",
      "@BreakingNews.txt\n",
      "@cnnbrk.txt\n"
     ]
    }
   ],
   "source": [
    "doc_complete = []\n",
    "for file in list_doc:\n",
    "    if os.path.isfile(file):\n",
    "        print(file)\n",
    "        content = open(file,'r').read().lower()          # lowering all the content\n",
    "        #Using the tweet-preprocessor model to remove:\n",
    "        #URLs, Hashtags, Mentions, Reserved, words(RT, FAV), Emojis, Smileys\n",
    "        doc_complete.append(p.clean(str(content)))"
   ]
  },
  {
   "cell_type": "code",
   "execution_count": 5,
   "metadata": {
    "collapsed": true
   },
   "outputs": [],
   "source": [
    "# Removing stop words, Implementing the tf-idf Vectorizing, n-gram model\n",
    "stopset = set(stopwords.words('english'))\n",
    "stopset.update([\"https\",\"http\",\"https://\"])\n",
    "vectorizer = TfidfVectorizer(stop_words=stopset, use_idf=True, ngram_range=(1,3))"
   ]
  },
  {
   "cell_type": "code",
   "execution_count": 6,
   "metadata": {
    "collapsed": true
   },
   "outputs": [],
   "source": [
    "X =vectorizer.fit_transform(doc_complete)"
   ]
  },
  {
   "cell_type": "code",
   "execution_count": 7,
   "metadata": {
    "collapsed": true
   },
   "outputs": [],
   "source": [
    "# Latent Semantic Analysis\n",
    "\n",
    "lsa = TruncatedSVD(n_components=15,n_iter=100)\n",
    "lsa.fit(X)\n",
    "\n",
    "terms = vectorizer.get_feature_names()"
   ]
  },
  {
   "cell_type": "code",
   "execution_count": 8,
   "metadata": {
    "collapsed": false
   },
   "outputs": [
    {
     "name": "stdout",
     "output_type": "stream",
     "text": [
      "Concept 0:\n",
      "army\n",
      "first\n",
      "admit\n",
      "admit army\n",
      "admit army invaded\n",
      "army invaded\n",
      "army invaded kanu\n",
      "army must\n",
      "defence minister\n",
      "defence minister admit\n",
      " \n",
      "Concept 1:\n",
      "rt\n",
      "news\n",
      "8u\n",
      "trump\n",
      "reports\n",
      "says\n",
      "house\n",
      "media\n",
      "say\n",
      "let\n",
      " \n",
      "Concept 2:\n",
      "rt\n",
      "reports\n",
      "tillerson\n",
      "rt rt\n",
      "says\n",
      "replaced\n",
      "secretary\n",
      "gaddafi\n",
      "cia\n",
      "briefing\n",
      " \n",
      "Concept 3:\n",
      "wakey\n",
      "really\n",
      "live\n",
      "cant\n",
      "courts\n",
      "performs\n",
      "tolerance\n",
      "watch\n",
      "aide really\n",
      "aide really might\n",
      " \n",
      "Concept 4:\n",
      "cant\n",
      "courts\n",
      "performs\n",
      "tolerance\n",
      "help please\n",
      "bolstered\n",
      "bolstered defense\n",
      "cant correct\n",
      "cant correct stupid\n",
      "correct stupid\n",
      " \n",
      "Concept 5:\n",
      "send\n",
      "shut\n",
      "announced\n",
      "korea\n",
      "twitter\n",
      "killed\n",
      "family\n",
      "uk\n",
      "also send\n",
      "code\n",
      " \n",
      "Concept 6:\n",
      "gaddafi\n",
      "james\n",
      "lockerbie\n",
      "murdoch\n",
      "rt james\n",
      "news\n",
      "sunday\n",
      "connection\n",
      "ever news\n",
      "ever news world\n",
      " \n",
      "Concept 7:\n",
      "russian\n",
      "collusion\n",
      "russian collusion\n",
      "news\n",
      "dorky\n",
      "dorky fakenews\n",
      "dorky fakenews turds\n",
      "embassy\n",
      "fakenews\n",
      "fakenews turds\n",
      " \n",
      "Concept 8:\n",
      "first\n",
      "first first\n",
      "first retweeted\n",
      "army\n",
      "retweeted\n",
      "admit\n",
      "admit army\n",
      "admit army invaded\n",
      "army invaded\n",
      "army invaded kanu\n",
      " \n"
     ]
    }
   ],
   "source": [
    "for i,comp in enumerate(lsa.components_):\n",
    "    termsInComp = zip(terms,comp)\n",
    "    sortedterms = sorted(termsInComp, key=lambda x: x[1],reverse=True)[:10]\n",
    "    print(\"Concept %d:\" % i)\n",
    "    for term in sortedterms:\n",
    "        print(term[0])\n",
    "    print(\" \")"
   ]
  }
 ],
 "metadata": {
  "kernelspec": {
   "display_name": "Python 2",
   "language": "python",
   "name": "python2"
  },
  "language_info": {
   "codemirror_mode": {
    "name": "ipython",
    "version": 2
   },
   "file_extension": ".py",
   "mimetype": "text/x-python",
   "name": "python",
   "nbconvert_exporter": "python",
   "pygments_lexer": "ipython2",
   "version": "2.7.13"
  }
 },
 "nbformat": 4,
 "nbformat_minor": 2
}
